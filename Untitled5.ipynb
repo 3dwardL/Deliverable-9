{
  "nbformat": 4,
  "nbformat_minor": 0,
  "metadata": {
    "colab": {
      "provenance": []
    },
    "kernelspec": {
      "name": "python3",
      "display_name": "Python 3"
    },
    "language_info": {
      "name": "python"
    }
  },
  "cells": [
    {
      "cell_type": "markdown",
      "source": [
        "Step 1: Problem definition\n",
        "\n",
        "Iris data set for the data I selected. Firstly, this data set is composed of 150 samples, with 4 characteristics and 3 possible iris categories. At the same time, it is also a classification problem, whose goal is to predict the category of iris based on these four characteristics."
      ],
      "metadata": {
        "id": "6WmaWmZ47TiV"
      }
    },
    {
      "cell_type": "markdown",
      "source": [
        "Step 2: Divide data\n",
        "\n",
        "I will divide the data set into a training set and a test set, where I will use 20% for testing and 80% for training."
      ],
      "metadata": {
        "id": "bBLLh_J97ayb"
      }
    },
    {
      "cell_type": "code",
      "source": [
        "import pandas as pd\n",
        "from sklearn.model_selection import train_test_split"
      ],
      "metadata": {
        "id": "MnSaHfqr--1B"
      },
      "execution_count": 1,
      "outputs": []
    },
    {
      "cell_type": "code",
      "source": [
        "# load iris dataset\n",
        "iris_df = pd.read_csv('https://archive.ics.uci.edu/ml/machine-learning-databases/iris/iris.data', header=None)\n",
        "iris_df.columns = ['sepal_length', 'sepal_width', 'petal_length', 'petal_width', 'class']\n",
        "\n",
        "# split into features and response\n",
        "X = iris_df.drop('class', axis=1)\n",
        "y = iris_df['class']\n",
        "\n",
        "# split into training and testing data\n",
        "X_train, X_test, y_train, y_test = train_test_split(X, y, test_size=0.2, random_state=1)"
      ],
      "metadata": {
        "id": "n_3uO2RM_GaW"
      },
      "execution_count": 6,
      "outputs": []
    },
    {
      "cell_type": "markdown",
      "source": [
        "Step 3: Model selection, fitting and evaluation\n",
        "\n",
        "I will use a decision tree classifier to predict the category of iris."
      ],
      "metadata": {
        "id": "YrUt_am8_dOC"
      }
    },
    {
      "cell_type": "code",
      "source": [
        "from sklearn.tree import DecisionTreeClassifier\n",
        "from sklearn.metrics import accuracy_score\n",
        "\n",
        "# fit decision tree to training data\n",
        "dt = DecisionTreeClassifier(random_state=1)\n",
        "dt.fit(X_train, y_train)\n",
        "\n",
        "# predict class of test data\n",
        "y_pred = dt.predict(X_test)\n",
        "\n",
        "# calculate accuracy of predictions\n",
        "accuracy = accuracy_score(y_test, y_pred)\n",
        "print('Accuracy:', accuracy)"
      ],
      "metadata": {
        "colab": {
          "base_uri": "https://localhost:8080/"
        },
        "id": "fIok9X3s_zgC",
        "outputId": "a267cb83-3881-4291-97e5-e96805b0a455"
      },
      "execution_count": 8,
      "outputs": [
        {
          "output_type": "stream",
          "name": "stdout",
          "text": [
            "Accuracy: 0.9666666666666667\n"
          ]
        }
      ]
    },
    {
      "cell_type": "markdown",
      "source": [
        "Step 4: Conclusion\n",
        "\n",
        "The final decision tree classifier accurately predicted the classification of iris, and its accuracy rate was 0.96666666666667, that is, 96.67%. Personally, I think this is a relatively high accuracy score, which indicates that the model can distinguish different types of iris according to sepal length, sepal width, petal length and petal width."
      ],
      "metadata": {
        "id": "rQ5G9nmzBCyJ"
      }
    }
  ]
}